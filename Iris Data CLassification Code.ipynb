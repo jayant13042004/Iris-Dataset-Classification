{
 "cells": [
  {
   "cell_type": "code",
   "execution_count": 4,
   "id": "064f0229-0575-4847-abcd-eb2a8fa5d229",
   "metadata": {},
   "outputs": [
    {
     "ename": "ModuleNotFoundError",
     "evalue": "No module named 'numpy'",
     "output_type": "error",
     "traceback": [
      "\u001b[1;31m---------------------------------------------------------------------------\u001b[0m",
      "\u001b[1;31mModuleNotFoundError\u001b[0m                       Traceback (most recent call last)",
      "Cell \u001b[1;32mIn[4], line 1\u001b[0m\n\u001b[1;32m----> 1\u001b[0m \u001b[38;5;28;01mimport\u001b[39;00m \u001b[38;5;21;01mnumpy\u001b[39;00m \u001b[38;5;28;01mas\u001b[39;00m \u001b[38;5;21;01mnp\u001b[39;00m\n\u001b[0;32m      2\u001b[0m \u001b[38;5;28;01mimport\u001b[39;00m \u001b[38;5;21;01mpandas\u001b[39;00m \u001b[38;5;28;01mas\u001b[39;00m \u001b[38;5;21;01mpd\u001b[39;00m\n\u001b[0;32m      3\u001b[0m \u001b[38;5;28;01mimport\u001b[39;00m \u001b[38;5;21;01mmatplotlib\u001b[39;00m\u001b[38;5;21;01m.\u001b[39;00m\u001b[38;5;21;01mpyplot\u001b[39;00m \u001b[38;5;28;01mas\u001b[39;00m \u001b[38;5;21;01mplt\u001b[39;00m\n",
      "\u001b[1;31mModuleNotFoundError\u001b[0m: No module named 'numpy'"
     ]
    }
   ],
   "source": [
    "import numpy as np\n",
    "import pandas as pd\n",
    "import matplotlib.pyplot as plt"
   ]
  },
  {
   "cell_type": "code",
   "execution_count": 5,
   "id": "a4d95c5e-4827-4a1c-8335-daf640b1f0e4",
   "metadata": {},
   "outputs": [
    {
     "ename": "NameError",
     "evalue": "name 'pd' is not defined",
     "output_type": "error",
     "traceback": [
      "\u001b[1;31m---------------------------------------------------------------------------\u001b[0m",
      "\u001b[1;31mNameError\u001b[0m                                 Traceback (most recent call last)",
      "Cell \u001b[1;32mIn[5], line 1\u001b[0m\n\u001b[1;32m----> 1\u001b[0m df \u001b[38;5;241m=\u001b[39m \u001b[43mpd\u001b[49m\u001b[38;5;241m.\u001b[39mread_csv(\u001b[38;5;124m\"\u001b[39m\u001b[38;5;124miris.csv\u001b[39m\u001b[38;5;124m\"\u001b[39m)\n\u001b[0;32m      2\u001b[0m df\u001b[38;5;241m.\u001b[39mhead()\n",
      "\u001b[1;31mNameError\u001b[0m: name 'pd' is not defined"
     ]
    }
   ],
   "source": [
    "df = pd.read_csv(\"iris.csv\")\n",
    "df.head()"
   ]
  },
  {
   "cell_type": "code",
   "execution_count": 45,
   "id": "42ee5420-e583-43e4-b550-27694c303d0d",
   "metadata": {},
   "outputs": [
    {
     "data": {
      "text/plain": [
       "array(['Iris-setosa', 'Iris-versicolor', 'Iris-virginica'], dtype=object)"
      ]
     },
     "execution_count": 45,
     "metadata": {},
     "output_type": "execute_result"
    }
   ],
   "source": [
    "df['Iris-setosa'].unique()"
   ]
  },
  {
   "cell_type": "code",
   "execution_count": 46,
   "id": "c7c2cc10-d250-4e56-9273-d8953de7ad47",
   "metadata": {},
   "outputs": [
    {
     "name": "stderr",
     "output_type": "stream",
     "text": [
      "C:\\Users\\User\\AppData\\Local\\Temp\\ipykernel_10468\\2343087500.py:3: SettingWithCopyWarning: \n",
      "A value is trying to be set on a copy of a slice from a DataFrame\n",
      "\n",
      "See the caveats in the documentation: https://pandas.pydata.org/pandas-docs/stable/user_guide/indexing.html#returning-a-view-versus-a-copy\n",
      "  df['Iris-setosa'][idx] = lst.index(str(df['Iris-setosa'][idx]))\n"
     ]
    },
    {
     "data": {
      "text/html": [
       "<div>\n",
       "<style scoped>\n",
       "    .dataframe tbody tr th:only-of-type {\n",
       "        vertical-align: middle;\n",
       "    }\n",
       "\n",
       "    .dataframe tbody tr th {\n",
       "        vertical-align: top;\n",
       "    }\n",
       "\n",
       "    .dataframe thead th {\n",
       "        text-align: right;\n",
       "    }\n",
       "</style>\n",
       "<table border=\"1\" class=\"dataframe\">\n",
       "  <thead>\n",
       "    <tr style=\"text-align: right;\">\n",
       "      <th></th>\n",
       "      <th>5.1</th>\n",
       "      <th>3.5</th>\n",
       "      <th>1.4</th>\n",
       "      <th>0.2</th>\n",
       "      <th>Iris-setosa</th>\n",
       "    </tr>\n",
       "  </thead>\n",
       "  <tbody>\n",
       "    <tr>\n",
       "      <th>0</th>\n",
       "      <td>4.9</td>\n",
       "      <td>3.0</td>\n",
       "      <td>1.4</td>\n",
       "      <td>0.2</td>\n",
       "      <td>0</td>\n",
       "    </tr>\n",
       "    <tr>\n",
       "      <th>1</th>\n",
       "      <td>4.7</td>\n",
       "      <td>3.2</td>\n",
       "      <td>1.3</td>\n",
       "      <td>0.2</td>\n",
       "      <td>0</td>\n",
       "    </tr>\n",
       "    <tr>\n",
       "      <th>2</th>\n",
       "      <td>4.6</td>\n",
       "      <td>3.1</td>\n",
       "      <td>1.5</td>\n",
       "      <td>0.2</td>\n",
       "      <td>0</td>\n",
       "    </tr>\n",
       "    <tr>\n",
       "      <th>3</th>\n",
       "      <td>5.0</td>\n",
       "      <td>3.6</td>\n",
       "      <td>1.4</td>\n",
       "      <td>0.2</td>\n",
       "      <td>0</td>\n",
       "    </tr>\n",
       "    <tr>\n",
       "      <th>4</th>\n",
       "      <td>5.4</td>\n",
       "      <td>3.9</td>\n",
       "      <td>1.7</td>\n",
       "      <td>0.4</td>\n",
       "      <td>0</td>\n",
       "    </tr>\n",
       "  </tbody>\n",
       "</table>\n",
       "</div>"
      ],
      "text/plain": [
       "   5.1  3.5  1.4  0.2 Iris-setosa\n",
       "0  4.9  3.0  1.4  0.2           0\n",
       "1  4.7  3.2  1.3  0.2           0\n",
       "2  4.6  3.1  1.5  0.2           0\n",
       "3  5.0  3.6  1.4  0.2           0\n",
       "4  5.4  3.9  1.7  0.4           0"
      ]
     },
     "execution_count": 46,
     "metadata": {},
     "output_type": "execute_result"
    }
   ],
   "source": [
    "lst = df['Iris-setosa'].unique().tolist()\n",
    "for idx in range(len(df['Iris-setosa'])):\n",
    "    df['Iris-setosa'][idx] = lst.index(str(df['Iris-setosa'][idx]))\n",
    "df.head()"
   ]
  },
  {
   "cell_type": "code",
   "execution_count": 5,
   "id": "f58b8347-3eb8-4fbb-8fce-1aa4feb4aba0",
   "metadata": {},
   "outputs": [],
   "source": [
    "import seaborn as sns"
   ]
  },
  {
   "cell_type": "code",
   "execution_count": 47,
   "id": "f3ba01a3-62a6-433c-875d-45623fbe0d92",
   "metadata": {},
   "outputs": [],
   "source": [
    "target = df['Iris-setosa']"
   ]
  },
  {
   "cell_type": "code",
   "execution_count": 49,
   "id": "8510f9c2-fdf1-46ac-a2e4-c14ea2092953",
   "metadata": {},
   "outputs": [
    {
     "data": {
      "text/plain": [
       "<seaborn.axisgrid.FacetGrid at 0x29671397510>"
      ]
     },
     "execution_count": 49,
     "metadata": {},
     "output_type": "execute_result"
    },
    {
     "data": {
      "image/png": "[encoded data removed]",
      "text/plain": [
       "<Figure size 582.111x500 with 1 Axes>"
      ]
     },
     "metadata": {},
     "output_type": "display_data"
    }
   ],
   "source": [
    "sns.relplot(data = df, x = df['5.1'], y = df['3.5'], hue = df['Iris-setosa'])"
   ]
  },
  {
   "cell_type": "code",
   "execution_count": 50,
   "id": "6415f2d7-f957-4eff-8878-cf33ef350ee5",
   "metadata": {},
   "outputs": [
    {
     "data": {
      "text/html": [
       "<div>\n",
       "<style scoped>\n",
       "    .dataframe tbody tr th:only-of-type {\n",
       "        vertical-align: middle;\n",
       "    }\n",
       "\n",
       "    .dataframe tbody tr th {\n",
       "        vertical-align: top;\n",
       "    }\n",
       "\n",
       "    .dataframe thead th {\n",
       "        text-align: right;\n",
       "    }\n",
       "</style>\n",
       "<table border=\"1\" class=\"dataframe\">\n",
       "  <thead>\n",
       "    <tr style=\"text-align: right;\">\n",
       "      <th></th>\n",
       "      <th>5.1</th>\n",
       "      <th>3.5</th>\n",
       "      <th>1.4</th>\n",
       "      <th>0.2</th>\n",
       "    </tr>\n",
       "  </thead>\n",
       "  <tbody>\n",
       "    <tr>\n",
       "      <th>0</th>\n",
       "      <td>4.9</td>\n",
       "      <td>3.0</td>\n",
       "      <td>1.4</td>\n",
       "      <td>0.2</td>\n",
       "    </tr>\n",
       "    <tr>\n",
       "      <th>1</th>\n",
       "      <td>4.7</td>\n",
       "      <td>3.2</td>\n",
       "      <td>1.3</td>\n",
       "      <td>0.2</td>\n",
       "    </tr>\n",
       "    <tr>\n",
       "      <th>2</th>\n",
       "      <td>4.6</td>\n",
       "      <td>3.1</td>\n",
       "      <td>1.5</td>\n",
       "      <td>0.2</td>\n",
       "    </tr>\n",
       "    <tr>\n",
       "      <th>3</th>\n",
       "      <td>5.0</td>\n",
       "      <td>3.6</td>\n",
       "      <td>1.4</td>\n",
       "      <td>0.2</td>\n",
       "    </tr>\n",
       "    <tr>\n",
       "      <th>4</th>\n",
       "      <td>5.4</td>\n",
       "      <td>3.9</td>\n",
       "      <td>1.7</td>\n",
       "      <td>0.4</td>\n",
       "    </tr>\n",
       "  </tbody>\n",
       "</table>\n",
       "</div>"
      ],
      "text/plain": [
       "   5.1  3.5  1.4  0.2\n",
       "0  4.9  3.0  1.4  0.2\n",
       "1  4.7  3.2  1.3  0.2\n",
       "2  4.6  3.1  1.5  0.2\n",
       "3  5.0  3.6  1.4  0.2\n",
       "4  5.4  3.9  1.7  0.4"
      ]
     },
     "execution_count": 50,
     "metadata": {},
     "output_type": "execute_result"
    }
   ],
   "source": [
    "df.drop(columns = ['Iris-setosa'], inplace= True)\n",
    "df.head()"
   ]
  },
  {
   "cell_type": "code",
   "execution_count": 120,
   "id": "43c69655-32ae-4275-9e6f-f5984427b09c",
   "metadata": {},
   "outputs": [],
   "source": [
    "def euclidianDist(v1, v2):\n",
    "    diff = v1-v2\n",
    "    sq = np.dot(diff, diff.T)\n",
    "    sq = np.sqrt(sq)\n",
    "    return sq"
   ]
  },
  {
   "cell_type": "code",
   "execution_count": 53,
   "id": "26f3eb9c-1997-4f33-b4a9-e70b1b635c75",
   "metadata": {},
   "outputs": [],
   "source": [
    "X = df.to_numpy()\n",
    "Y = target.to_numpy()"
   ]
  },
  {
   "cell_type": "code",
   "execution_count": 148,
   "id": "84c81e7b-9abe-453b-b7dc-dddd003bc1a0",
   "metadata": {},
   "outputs": [
    {
     "data": {
      "text/plain": [
       "array([5.8, 2.7, 5.1, 1.9])"
      ]
     },
     "execution_count": 148,
     "metadata": {},
     "output_type": "execute_result"
    }
   ],
   "source": [
    "X[100]"
   ]
  },
  {
   "cell_type": "code",
   "execution_count": 65,
   "id": "319b0559-0d7b-40b3-82ca-abbdbe2490a9",
   "metadata": {},
   "outputs": [],
   "source": [
    "test_size = int(0.2*len(X))\n",
    "X_test = []\n",
    "Y_test = []\n",
    "X_train = []\n",
    "Y_train = []\n",
    "rnd = np.random.randint(0, len(X), (test_size,))\n",
    "rnd\n",
    "for i in range(len(X)):\n",
    "    for j in rnd:\n",
    "        if i == int(j):\n",
    "            X_test.append(X[i])\n",
    "            Y_test.append(Y[i])\n",
    "        else:\n",
    "            X_train.append(X[i])\n",
    "            Y_train.append(Y[i])\n",
    "X_train = np.array(X_train)\n",
    "Y_train = np.array(Y_train)\n",
    "X_test = np.array(X_test)\n",
    "Y_test = np.array(Y_test)"
   ]
  },
  {
   "cell_type": "code",
   "execution_count": 68,
   "id": "d97297e6-4919-453d-9e57-55834981ba13",
   "metadata": {},
   "outputs": [
    {
     "data": {
      "text/plain": [
       "(29,)"
      ]
     },
     "execution_count": 68,
     "metadata": {},
     "output_type": "execute_result"
    }
   ],
   "source": [
    "Y_test.shape"
   ]
  },
  {
   "cell_type": "code",
   "execution_count": 131,
   "id": "913e0e5f-3b1a-400f-8e7d-78ac1f52a342",
   "metadata": {},
   "outputs": [],
   "source": [
    "def knn(newX, X, Y, params):\n",
    "    dists = {}\n",
    "    for id in range(len(X)):\n",
    "        dist = euclidianDist(newX, X[id])[0][0]\n",
    "        dists[dist] = Y[id]\n",
    "    dists = sorted(dists.items())\n",
    "    i = 0\n",
    "    label = []\n",
    "    while i<=params-1:\n",
    "        label.append(dists[i][1])\n",
    "        i+=1\n",
    "    pred_label = max(label, key = label.count)\n",
    "    return pred_label"
   ]
  },
  {
   "cell_type": "code",
   "execution_count": 101,
   "id": "def851c7-d78f-4bed-86ed-677466af620c",
   "metadata": {},
   "outputs": [],
   "source": [
    "def sortDict(dic):\n",
    "    return sorted(dic.items())"
   ]
  },
  {
   "cell_type": "code",
   "execution_count": 151,
   "id": "50a019d3-8fdb-492f-a4b9-028d69bb7e53",
   "metadata": {},
   "outputs": [],
   "source": [
    "def predictKNN(X_t, X, Y, params = 3):\n",
    "    Y_pred = []\n",
    "    for i in range(len(X_t)):\n",
    "        x = [X_t[i]]\n",
    "        Y_pred.append(knn(x, X, Y, params))\n",
    "    return np.array(Y_pred)"
   ]
  },
  {
   "cell_type": "code",
   "execution_count": 162,
   "id": "582383f9-f5f3-4caa-a571-3cbb878de1cd",
   "metadata": {},
   "outputs": [],
   "source": [
    "def accuracyKNN(y_pred, y):\n",
    "    acc = {\n",
    "        \"correct\" : 0,\n",
    "        \"false\" : 0,\n",
    "        \"total\" : len(y)\n",
    "    }\n",
    "    for i in range(len(y_pred)):\n",
    "        if y_pred[i] == y[i]:\n",
    "           acc[\"correct\"] += 1\n",
    "        else:\n",
    "            acc[\"false\"] += 1\n",
    "    return acc"
   ]
  },
  {
   "cell_type": "code",
   "execution_count": 156,
   "id": "92ac1d3e-ce5a-4089-be61-415ded5f957d",
   "metadata": {},
   "outputs": [],
   "source": [
    "x = [[6.4, 3.2, 4.5, 1.5], [5.8, 2.7, 5.1, 1.9], [7.0, 3, 4.92, 2.1]]"
   ]
  },
  {
   "cell_type": "code",
   "execution_count": 163,
   "id": "b8ebd993-1dbb-48ed-9d29-18a8f6e4ce26",
   "metadata": {},
   "outputs": [
    {
     "name": "stdout",
     "output_type": "stream",
     "text": [
      "{'correct': 28, 'false': 1, 'total': 29}\n"
     ]
    }
   ],
   "source": [
    "Y_pred = predictKNN(X_test, X_train, Y_train, 5)\n",
    "print(accuracyKNN(Y_pred, Y_test))"
   ]
  }
 ],
 "metadata": {
  "kernelspec": {
   "display_name": "Python 3 (ipykernel)",
   "language": "python",
   "name": "python3"
  },
  "language_info": {
   "codemirror_mode": {
    "name": "ipython",
    "version": 3
   },
   "file_extension": ".py",
   "mimetype": "text/x-python",
   "name": "python",
   "nbconvert_exporter": "python",
   "pygments_lexer": "ipython3",
   "version": "3.12.4"
  }
 },
 "nbformat": 4,
 "nbformat_minor": 5
}
